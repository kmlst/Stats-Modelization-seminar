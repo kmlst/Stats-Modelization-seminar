{
 "cells": [
  {
   "cell_type": "code",
   "execution_count": 10,
   "metadata": {},
   "outputs": [
    {
     "name": "stdout",
     "output_type": "stream",
     "text": [
      "    feature shap_importance\n",
      "1  Feature2        2.975537\n",
      "0  Feature1        0.516939\n",
      "2  Feature3        0.379312\n",
      "['Feature2', 'Feature1', 'Feature3']\n"
     ]
    }
   ],
   "source": [
    "import shap\n",
    "import numpy as np\n",
    "from sklearn.model_selection import train_test_split\n",
    "import pandas as pd\n",
    "from xgboost import XGBClassifier\n",
    "\n",
    "# Generate synthetic data\n",
    "np.random.seed(42)\n",
    "data = {\n",
    "    'Feature1': np.random.normal(loc=0, scale=1, size=100),\n",
    "    'Feature2': np.random.normal(loc=2, scale=1.5, size=100),\n",
    "    'Feature3': np.random.uniform(low=-1, high=1, size=100)\n",
    "}\n",
    "\n",
    "# Create a DataFrame\n",
    "df = pd.DataFrame(data)\n",
    "\n",
    "# Generate a target variable with some dependency\n",
    "df['Target'] = df['Feature1'] * 0.5 + df['Feature2'] * 1.5 + np.random.normal(loc=0, scale=1, size=100)\n",
    "\n",
    "X = df.drop('Target', axis=1)\n",
    "y = df['Target']\n",
    "\n",
    "# transform the target to category by binning\n",
    "y = pd.qcut(y, q=2, labels=False)\n",
    "\n",
    "# Split the data\n",
    "X_train, X_test, y_train, y_test = train_test_split(X, y, test_size=0.2, random_state=42)\n",
    "\n",
    "\n",
    "model = XGBClassifier().fit(X_train, y_train)\n",
    "\n",
    "# Create the explainer and SHAP values\n",
    "explainer = shap.Explainer(model)\n",
    "shap_values = explainer(X_train)\n",
    "\n",
    "# Calculate mean absolute SHAP values for each feature\n",
    "shap_sum = np.abs(shap_values.values).mean(axis=0)\n",
    "importance_df = pd.DataFrame([X_train.columns.tolist(), shap_sum.tolist()]).T\n",
    "importance_df.columns = ['feature', 'shap_importance']\n",
    "\n",
    "# Sort features by importance\n",
    "importance_df = importance_df.sort_values('shap_importance', ascending=False)\n",
    "\n",
    "# Select top features (here there are only 3)\n",
    "selected_features = importance_df.head(10)['feature'].tolist()\n",
    "\n",
    "# show the results\n",
    "print(importance_df)\n",
    "print(selected_features)"
   ]
  },
  {
   "cell_type": "code",
   "execution_count": null,
   "metadata": {},
   "outputs": [],
   "source": []
  }
 ],
 "metadata": {
  "kernelspec": {
   "display_name": "base",
   "language": "python",
   "name": "python3"
  },
  "language_info": {
   "codemirror_mode": {
    "name": "ipython",
    "version": 3
   },
   "file_extension": ".py",
   "mimetype": "text/x-python",
   "name": "python",
   "nbconvert_exporter": "python",
   "pygments_lexer": "ipython3",
   "version": "3.9.12"
  }
 },
 "nbformat": 4,
 "nbformat_minor": 2
}
